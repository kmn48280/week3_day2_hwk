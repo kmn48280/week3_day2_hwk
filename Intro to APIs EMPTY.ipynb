{
 "cells": [
  {
   "cell_type": "markdown",
   "id": "7196054f",
   "metadata": {},
   "source": [
    "# Working with APIs"
   ]
  },
  {
   "cell_type": "markdown",
   "id": "0547b71e",
   "metadata": {},
   "source": [
    "API stands for Application programming interface<br>\n",
    "APIs are a way for applications to talk to eachother<br>\n",
    "In python we use the requests package to handle the connection<br>\n",
    "<small><strong>Note: It is requests with an s not request(this is a different package)</strong></small><br>\n",
    "Most API's communicate with data in the form of JSON<br>\n",
    "JSON stands for JavaScript Object Notation"
   ]
  },
  {
   "cell_type": "code",
   "execution_count": 2,
   "id": "4db9d154",
   "metadata": {},
   "outputs": [],
   "source": [
    "#import the packages we need: make sure I type in \"requests\"\n",
    "import requests, json"
   ]
  },
  {
   "cell_type": "markdown",
   "id": "e8c2ce51",
   "metadata": {},
   "source": [
    "We will be connecting to the Ergast F1 Racer API today:\n",
    "http://ergast.com/mrd/\n",
    "\n",
    "to view JSON data nicely in the Chrome browser install the extension JSONview"
   ]
  },
  {
   "cell_type": "code",
   "execution_count": 3,
   "id": "52c440c6",
   "metadata": {},
   "outputs": [
    {
     "name": "stdout",
     "output_type": "stream",
     "text": [
      "Help on package requests:\n",
      "\n",
      "NAME\n",
      "    requests\n",
      "\n",
      "DESCRIPTION\n",
      "    Requests HTTP Library\n",
      "    ~~~~~~~~~~~~~~~~~~~~~\n",
      "    \n",
      "    Requests is an HTTP library, written in Python, for human beings.\n",
      "    Basic GET usage:\n",
      "    \n",
      "       >>> import requests\n",
      "       >>> r = requests.get('https://www.python.org')\n",
      "       >>> r.status_code\n",
      "       200\n",
      "       >>> b'Python is a programming language' in r.content\n",
      "       True\n",
      "    \n",
      "    ... or POST:\n",
      "    \n",
      "       >>> payload = dict(key1='value1', key2='value2')\n",
      "       >>> r = requests.post('https://httpbin.org/post', data=payload)\n",
      "       >>> print(r.text)\n",
      "       {\n",
      "         ...\n",
      "         \"form\": {\n",
      "           \"key1\": \"value1\",\n",
      "           \"key2\": \"value2\"\n",
      "         },\n",
      "         ...\n",
      "       }\n",
      "    \n",
      "    The other HTTP methods are supported - see `requests.api`. Full documentation\n",
      "    is at <https://requests.readthedocs.io>.\n",
      "    \n",
      "    :copyright: (c) 2017 by Kenneth Reitz.\n",
      "    :license: Apache 2.0, see LICENSE for more details.\n",
      "\n",
      "PACKAGE CONTENTS\n",
      "    __version__\n",
      "    _internal_utils\n",
      "    adapters\n",
      "    api\n",
      "    auth\n",
      "    certs\n",
      "    compat\n",
      "    cookies\n",
      "    exceptions\n",
      "    help\n",
      "    hooks\n",
      "    models\n",
      "    packages\n",
      "    sessions\n",
      "    status_codes\n",
      "    structures\n",
      "    utils\n",
      "\n",
      "FUNCTIONS\n",
      "    check_compatibility(urllib3_version, chardet_version, charset_normalizer_version)\n",
      "\n",
      "DATA\n",
      "    __author_email__ = 'me@kennethreitz.org'\n",
      "    __build__ = 140800\n",
      "    __cake__ = '✨ 🍰 ✨'\n",
      "    __copyright__ = 'Copyright 2020 Kenneth Reitz'\n",
      "    __description__ = 'Python HTTP for Humans.'\n",
      "    __license__ = 'Apache 2.0'\n",
      "    __title__ = 'requests'\n",
      "    __url__ = 'https://requests.readthedocs.io'\n",
      "    chardet_version = '4.0.0'\n",
      "    charset_normalizer_version = '2.0.4'\n",
      "    codes = <lookup 'status_codes'>\n",
      "\n",
      "VERSION\n",
      "    2.26.0\n",
      "\n",
      "AUTHOR\n",
      "    Kenneth Reitz\n",
      "\n",
      "FILE\n",
      "    /opt/anaconda3/lib/python3.9/site-packages/requests/__init__.py\n",
      "\n",
      "\n"
     ]
    }
   ],
   "source": [
    "#post: when we give something to computer\n",
    "#get: when we get info from the computer\n",
    "help(requests)"
   ]
  },
  {
   "cell_type": "code",
   "execution_count": 5,
   "id": "f60c1b4a",
   "metadata": {},
   "outputs": [],
   "source": [
    "url = \"https://ergast.com/api/f1/2020/1/driverStandings.json\""
   ]
  },
  {
   "cell_type": "code",
   "execution_count": 6,
   "id": "7b63a204",
   "metadata": {},
   "outputs": [
    {
     "name": "stdout",
     "output_type": "stream",
     "text": [
      "<Response [200]>\n"
     ]
    }
   ],
   "source": [
    "#response object\n",
    "response = requests.get(url)\n",
    "print(response)"
   ]
  },
  {
   "cell_type": "code",
   "execution_count": 7,
   "id": "c6d1fdaf",
   "metadata": {},
   "outputs": [
    {
     "data": {
      "text/plain": [
       "True"
      ]
     },
     "execution_count": 7,
     "metadata": {},
     "output_type": "execute_result"
    }
   ],
   "source": [
    "#check and make sure we got a successful response from the API\n",
    "response.ok"
   ]
  },
  {
   "cell_type": "code",
   "execution_count": 8,
   "id": "ed4d3256",
   "metadata": {},
   "outputs": [
    {
     "data": {
      "text/plain": [
       "{'MRData': {'xmlns': 'http://ergast.com/mrd/1.4',\n",
       "  'series': 'f1',\n",
       "  'url': 'http://ergast.com/api/f1/2020/1/driverstandings.json',\n",
       "  'limit': '30',\n",
       "  'offset': '0',\n",
       "  'total': '20',\n",
       "  'StandingsTable': {'season': '2020',\n",
       "   'round': '1',\n",
       "   'StandingsLists': [{'season': '2020',\n",
       "     'round': '1',\n",
       "     'DriverStandings': [{'position': '1',\n",
       "       'positionText': '1',\n",
       "       'points': '25',\n",
       "       'wins': '1',\n",
       "       'Driver': {'driverId': 'bottas',\n",
       "        'permanentNumber': '77',\n",
       "        'code': 'BOT',\n",
       "        'url': 'http://en.wikipedia.org/wiki/Valtteri_Bottas',\n",
       "        'givenName': 'Valtteri',\n",
       "        'familyName': 'Bottas',\n",
       "        'dateOfBirth': '1989-08-28',\n",
       "        'nationality': 'Finnish'},\n",
       "       'Constructors': [{'constructorId': 'mercedes',\n",
       "         'url': 'http://en.wikipedia.org/wiki/Mercedes-Benz_in_Formula_One',\n",
       "         'name': 'Mercedes',\n",
       "         'nationality': 'German'}]},\n",
       "      {'position': '2',\n",
       "       'positionText': '2',\n",
       "       'points': '18',\n",
       "       'wins': '0',\n",
       "       'Driver': {'driverId': 'leclerc',\n",
       "        'permanentNumber': '16',\n",
       "        'code': 'LEC',\n",
       "        'url': 'http://en.wikipedia.org/wiki/Charles_Leclerc',\n",
       "        'givenName': 'Charles',\n",
       "        'familyName': 'Leclerc',\n",
       "        'dateOfBirth': '1997-10-16',\n",
       "        'nationality': 'Monegasque'},\n",
       "       'Constructors': [{'constructorId': 'ferrari',\n",
       "         'url': 'http://en.wikipedia.org/wiki/Scuderia_Ferrari',\n",
       "         'name': 'Ferrari',\n",
       "         'nationality': 'Italian'}]},\n",
       "      {'position': '3',\n",
       "       'positionText': '3',\n",
       "       'points': '16',\n",
       "       'wins': '0',\n",
       "       'Driver': {'driverId': 'norris',\n",
       "        'permanentNumber': '4',\n",
       "        'code': 'NOR',\n",
       "        'url': 'http://en.wikipedia.org/wiki/Lando_Norris',\n",
       "        'givenName': 'Lando',\n",
       "        'familyName': 'Norris',\n",
       "        'dateOfBirth': '1999-11-13',\n",
       "        'nationality': 'British'},\n",
       "       'Constructors': [{'constructorId': 'mclaren',\n",
       "         'url': 'http://en.wikipedia.org/wiki/McLaren',\n",
       "         'name': 'McLaren',\n",
       "         'nationality': 'British'}]},\n",
       "      {'position': '4',\n",
       "       'positionText': '4',\n",
       "       'points': '12',\n",
       "       'wins': '0',\n",
       "       'Driver': {'driverId': 'hamilton',\n",
       "        'permanentNumber': '44',\n",
       "        'code': 'HAM',\n",
       "        'url': 'http://en.wikipedia.org/wiki/Lewis_Hamilton',\n",
       "        'givenName': 'Lewis',\n",
       "        'familyName': 'Hamilton',\n",
       "        'dateOfBirth': '1985-01-07',\n",
       "        'nationality': 'British'},\n",
       "       'Constructors': [{'constructorId': 'mercedes',\n",
       "         'url': 'http://en.wikipedia.org/wiki/Mercedes-Benz_in_Formula_One',\n",
       "         'name': 'Mercedes',\n",
       "         'nationality': 'German'}]},\n",
       "      {'position': '5',\n",
       "       'positionText': '5',\n",
       "       'points': '10',\n",
       "       'wins': '0',\n",
       "       'Driver': {'driverId': 'sainz',\n",
       "        'permanentNumber': '55',\n",
       "        'code': 'SAI',\n",
       "        'url': 'http://en.wikipedia.org/wiki/Carlos_Sainz_Jr.',\n",
       "        'givenName': 'Carlos',\n",
       "        'familyName': 'Sainz',\n",
       "        'dateOfBirth': '1994-09-01',\n",
       "        'nationality': 'Spanish'},\n",
       "       'Constructors': [{'constructorId': 'mclaren',\n",
       "         'url': 'http://en.wikipedia.org/wiki/McLaren',\n",
       "         'name': 'McLaren',\n",
       "         'nationality': 'British'}]},\n",
       "      {'position': '6',\n",
       "       'positionText': '6',\n",
       "       'points': '8',\n",
       "       'wins': '0',\n",
       "       'Driver': {'driverId': 'perez',\n",
       "        'permanentNumber': '11',\n",
       "        'code': 'PER',\n",
       "        'url': 'http://en.wikipedia.org/wiki/Sergio_P%C3%A9rez',\n",
       "        'givenName': 'Sergio',\n",
       "        'familyName': 'Pérez',\n",
       "        'dateOfBirth': '1990-01-26',\n",
       "        'nationality': 'Mexican'},\n",
       "       'Constructors': [{'constructorId': 'racing_point',\n",
       "         'url': 'http://en.wikipedia.org/wiki/Racing_Point_F1_Team',\n",
       "         'name': 'Racing Point',\n",
       "         'nationality': 'British'}]},\n",
       "      {'position': '7',\n",
       "       'positionText': '7',\n",
       "       'points': '6',\n",
       "       'wins': '0',\n",
       "       'Driver': {'driverId': 'gasly',\n",
       "        'permanentNumber': '10',\n",
       "        'code': 'GAS',\n",
       "        'url': 'http://en.wikipedia.org/wiki/Pierre_Gasly',\n",
       "        'givenName': 'Pierre',\n",
       "        'familyName': 'Gasly',\n",
       "        'dateOfBirth': '1996-02-07',\n",
       "        'nationality': 'French'},\n",
       "       'Constructors': [{'constructorId': 'alphatauri',\n",
       "         'url': 'http://en.wikipedia.org/wiki/Scuderia_AlphaTauri',\n",
       "         'name': 'AlphaTauri',\n",
       "         'nationality': 'Italian'}]},\n",
       "      {'position': '8',\n",
       "       'positionText': '8',\n",
       "       'points': '4',\n",
       "       'wins': '0',\n",
       "       'Driver': {'driverId': 'ocon',\n",
       "        'permanentNumber': '31',\n",
       "        'code': 'OCO',\n",
       "        'url': 'http://en.wikipedia.org/wiki/Esteban_Ocon',\n",
       "        'givenName': 'Esteban',\n",
       "        'familyName': 'Ocon',\n",
       "        'dateOfBirth': '1996-09-17',\n",
       "        'nationality': 'French'},\n",
       "       'Constructors': [{'constructorId': 'renault',\n",
       "         'url': 'http://en.wikipedia.org/wiki/Renault_in_Formula_One',\n",
       "         'name': 'Renault',\n",
       "         'nationality': 'French'}]},\n",
       "      {'position': '9',\n",
       "       'positionText': '9',\n",
       "       'points': '2',\n",
       "       'wins': '0',\n",
       "       'Driver': {'driverId': 'giovinazzi',\n",
       "        'permanentNumber': '99',\n",
       "        'code': 'GIO',\n",
       "        'url': 'http://en.wikipedia.org/wiki/Antonio_Giovinazzi',\n",
       "        'givenName': 'Antonio',\n",
       "        'familyName': 'Giovinazzi',\n",
       "        'dateOfBirth': '1993-12-14',\n",
       "        'nationality': 'Italian'},\n",
       "       'Constructors': [{'constructorId': 'alfa',\n",
       "         'url': 'http://en.wikipedia.org/wiki/Alfa_Romeo_in_Formula_One',\n",
       "         'name': 'Alfa Romeo',\n",
       "         'nationality': 'Swiss'}]},\n",
       "      {'position': '10',\n",
       "       'positionText': '10',\n",
       "       'points': '1',\n",
       "       'wins': '0',\n",
       "       'Driver': {'driverId': 'vettel',\n",
       "        'permanentNumber': '5',\n",
       "        'code': 'VET',\n",
       "        'url': 'http://en.wikipedia.org/wiki/Sebastian_Vettel',\n",
       "        'givenName': 'Sebastian',\n",
       "        'familyName': 'Vettel',\n",
       "        'dateOfBirth': '1987-07-03',\n",
       "        'nationality': 'German'},\n",
       "       'Constructors': [{'constructorId': 'ferrari',\n",
       "         'url': 'http://en.wikipedia.org/wiki/Scuderia_Ferrari',\n",
       "         'name': 'Ferrari',\n",
       "         'nationality': 'Italian'}]},\n",
       "      {'position': '11',\n",
       "       'positionText': '11',\n",
       "       'points': '0',\n",
       "       'wins': '0',\n",
       "       'Driver': {'driverId': 'latifi',\n",
       "        'permanentNumber': '6',\n",
       "        'code': 'LAT',\n",
       "        'url': 'http://en.wikipedia.org/wiki/Nicholas_Latifi',\n",
       "        'givenName': 'Nicholas',\n",
       "        'familyName': 'Latifi',\n",
       "        'dateOfBirth': '1995-06-29',\n",
       "        'nationality': 'Canadian'},\n",
       "       'Constructors': [{'constructorId': 'williams',\n",
       "         'url': 'http://en.wikipedia.org/wiki/Williams_Grand_Prix_Engineering',\n",
       "         'name': 'Williams',\n",
       "         'nationality': 'British'}]},\n",
       "      {'position': '12',\n",
       "       'positionText': '12',\n",
       "       'points': '0',\n",
       "       'wins': '0',\n",
       "       'Driver': {'driverId': 'kvyat',\n",
       "        'permanentNumber': '26',\n",
       "        'code': 'KVY',\n",
       "        'url': 'http://en.wikipedia.org/wiki/Daniil_Kvyat',\n",
       "        'givenName': 'Daniil',\n",
       "        'familyName': 'Kvyat',\n",
       "        'dateOfBirth': '1994-04-26',\n",
       "        'nationality': 'Russian'},\n",
       "       'Constructors': [{'constructorId': 'alphatauri',\n",
       "         'url': 'http://en.wikipedia.org/wiki/Scuderia_AlphaTauri',\n",
       "         'name': 'AlphaTauri',\n",
       "         'nationality': 'Italian'}]},\n",
       "      {'position': '13',\n",
       "       'positionText': '13',\n",
       "       'points': '0',\n",
       "       'wins': '0',\n",
       "       'Driver': {'driverId': 'albon',\n",
       "        'permanentNumber': '23',\n",
       "        'code': 'ALB',\n",
       "        'url': 'http://en.wikipedia.org/wiki/Alexander_Albon',\n",
       "        'givenName': 'Alexander',\n",
       "        'familyName': 'Albon',\n",
       "        'dateOfBirth': '1996-03-23',\n",
       "        'nationality': 'Thai'},\n",
       "       'Constructors': [{'constructorId': 'red_bull',\n",
       "         'url': 'http://en.wikipedia.org/wiki/Red_Bull_Racing',\n",
       "         'name': 'Red Bull',\n",
       "         'nationality': 'Austrian'}]},\n",
       "      {'position': '14',\n",
       "       'positionText': '14',\n",
       "       'points': '0',\n",
       "       'wins': '0',\n",
       "       'Driver': {'driverId': 'raikkonen',\n",
       "        'permanentNumber': '7',\n",
       "        'code': 'RAI',\n",
       "        'url': 'http://en.wikipedia.org/wiki/Kimi_R%C3%A4ikk%C3%B6nen',\n",
       "        'givenName': 'Kimi',\n",
       "        'familyName': 'Räikkönen',\n",
       "        'dateOfBirth': '1979-10-17',\n",
       "        'nationality': 'Finnish'},\n",
       "       'Constructors': [{'constructorId': 'alfa',\n",
       "         'url': 'http://en.wikipedia.org/wiki/Alfa_Romeo_in_Formula_One',\n",
       "         'name': 'Alfa Romeo',\n",
       "         'nationality': 'Swiss'}]},\n",
       "      {'position': '15',\n",
       "       'positionText': '15',\n",
       "       'points': '0',\n",
       "       'wins': '0',\n",
       "       'Driver': {'driverId': 'russell',\n",
       "        'permanentNumber': '63',\n",
       "        'code': 'RUS',\n",
       "        'url': 'http://en.wikipedia.org/wiki/George_Russell_%28racing_driver%29',\n",
       "        'givenName': 'George',\n",
       "        'familyName': 'Russell',\n",
       "        'dateOfBirth': '1998-02-15',\n",
       "        'nationality': 'British'},\n",
       "       'Constructors': [{'constructorId': 'williams',\n",
       "         'url': 'http://en.wikipedia.org/wiki/Williams_Grand_Prix_Engineering',\n",
       "         'name': 'Williams',\n",
       "         'nationality': 'British'}]},\n",
       "      {'position': '16',\n",
       "       'positionText': '16',\n",
       "       'points': '0',\n",
       "       'wins': '0',\n",
       "       'Driver': {'driverId': 'grosjean',\n",
       "        'permanentNumber': '8',\n",
       "        'code': 'GRO',\n",
       "        'url': 'http://en.wikipedia.org/wiki/Romain_Grosjean',\n",
       "        'givenName': 'Romain',\n",
       "        'familyName': 'Grosjean',\n",
       "        'dateOfBirth': '1986-04-17',\n",
       "        'nationality': 'French'},\n",
       "       'Constructors': [{'constructorId': 'haas',\n",
       "         'url': 'http://en.wikipedia.org/wiki/Haas_F1_Team',\n",
       "         'name': 'Haas F1 Team',\n",
       "         'nationality': 'American'}]},\n",
       "      {'position': '17',\n",
       "       'positionText': '17',\n",
       "       'points': '0',\n",
       "       'wins': '0',\n",
       "       'Driver': {'driverId': 'kevin_magnussen',\n",
       "        'permanentNumber': '20',\n",
       "        'code': 'MAG',\n",
       "        'url': 'http://en.wikipedia.org/wiki/Kevin_Magnussen',\n",
       "        'givenName': 'Kevin',\n",
       "        'familyName': 'Magnussen',\n",
       "        'dateOfBirth': '1992-10-05',\n",
       "        'nationality': 'Danish'},\n",
       "       'Constructors': [{'constructorId': 'haas',\n",
       "         'url': 'http://en.wikipedia.org/wiki/Haas_F1_Team',\n",
       "         'name': 'Haas F1 Team',\n",
       "         'nationality': 'American'}]},\n",
       "      {'position': '18',\n",
       "       'positionText': '18',\n",
       "       'points': '0',\n",
       "       'wins': '0',\n",
       "       'Driver': {'driverId': 'stroll',\n",
       "        'permanentNumber': '18',\n",
       "        'code': 'STR',\n",
       "        'url': 'http://en.wikipedia.org/wiki/Lance_Stroll',\n",
       "        'givenName': 'Lance',\n",
       "        'familyName': 'Stroll',\n",
       "        'dateOfBirth': '1998-10-29',\n",
       "        'nationality': 'Canadian'},\n",
       "       'Constructors': [{'constructorId': 'racing_point',\n",
       "         'url': 'http://en.wikipedia.org/wiki/Racing_Point_F1_Team',\n",
       "         'name': 'Racing Point',\n",
       "         'nationality': 'British'}]},\n",
       "      {'position': '19',\n",
       "       'positionText': '19',\n",
       "       'points': '0',\n",
       "       'wins': '0',\n",
       "       'Driver': {'driverId': 'ricciardo',\n",
       "        'permanentNumber': '3',\n",
       "        'code': 'RIC',\n",
       "        'url': 'http://en.wikipedia.org/wiki/Daniel_Ricciardo',\n",
       "        'givenName': 'Daniel',\n",
       "        'familyName': 'Ricciardo',\n",
       "        'dateOfBirth': '1989-07-01',\n",
       "        'nationality': 'Australian'},\n",
       "       'Constructors': [{'constructorId': 'renault',\n",
       "         'url': 'http://en.wikipedia.org/wiki/Renault_in_Formula_One',\n",
       "         'name': 'Renault',\n",
       "         'nationality': 'French'}]},\n",
       "      {'position': '20',\n",
       "       'positionText': '20',\n",
       "       'points': '0',\n",
       "       'wins': '0',\n",
       "       'Driver': {'driverId': 'max_verstappen',\n",
       "        'permanentNumber': '33',\n",
       "        'code': 'VER',\n",
       "        'url': 'http://en.wikipedia.org/wiki/Max_Verstappen',\n",
       "        'givenName': 'Max',\n",
       "        'familyName': 'Verstappen',\n",
       "        'dateOfBirth': '1997-09-30',\n",
       "        'nationality': 'Dutch'},\n",
       "       'Constructors': [{'constructorId': 'red_bull',\n",
       "         'url': 'http://en.wikipedia.org/wiki/Red_Bull_Racing',\n",
       "         'name': 'Red Bull',\n",
       "         'nationality': 'Austrian'}]}]}]}}}"
      ]
     },
     "execution_count": 8,
     "metadata": {},
     "output_type": "execute_result"
    }
   ],
   "source": [
    "#view the response as a JSON\n",
    "response.json()"
   ]
  },
  {
   "cell_type": "code",
   "execution_count": 9,
   "id": "92e6cd2c",
   "metadata": {},
   "outputs": [
    {
     "data": {
      "text/plain": [
       "dict"
      ]
     },
     "execution_count": 9,
     "metadata": {},
     "output_type": "execute_result"
    }
   ],
   "source": [
    "type(response.json())"
   ]
  },
  {
   "cell_type": "code",
   "execution_count": 10,
   "id": "f074dfcf",
   "metadata": {},
   "outputs": [
    {
     "name": "stdout",
     "output_type": "stream",
     "text": [
      "[{'position': '1', 'positionText': '1', 'points': '25', 'wins': '1', 'Driver': {'driverId': 'bottas', 'permanentNumber': '77', 'code': 'BOT', 'url': 'http://en.wikipedia.org/wiki/Valtteri_Bottas', 'givenName': 'Valtteri', 'familyName': 'Bottas', 'dateOfBirth': '1989-08-28', 'nationality': 'Finnish'}, 'Constructors': [{'constructorId': 'mercedes', 'url': 'http://en.wikipedia.org/wiki/Mercedes-Benz_in_Formula_One', 'name': 'Mercedes', 'nationality': 'German'}]}, {'position': '2', 'positionText': '2', 'points': '18', 'wins': '0', 'Driver': {'driverId': 'leclerc', 'permanentNumber': '16', 'code': 'LEC', 'url': 'http://en.wikipedia.org/wiki/Charles_Leclerc', 'givenName': 'Charles', 'familyName': 'Leclerc', 'dateOfBirth': '1997-10-16', 'nationality': 'Monegasque'}, 'Constructors': [{'constructorId': 'ferrari', 'url': 'http://en.wikipedia.org/wiki/Scuderia_Ferrari', 'name': 'Ferrari', 'nationality': 'Italian'}]}, {'position': '3', 'positionText': '3', 'points': '16', 'wins': '0', 'Driver': {'driverId': 'norris', 'permanentNumber': '4', 'code': 'NOR', 'url': 'http://en.wikipedia.org/wiki/Lando_Norris', 'givenName': 'Lando', 'familyName': 'Norris', 'dateOfBirth': '1999-11-13', 'nationality': 'British'}, 'Constructors': [{'constructorId': 'mclaren', 'url': 'http://en.wikipedia.org/wiki/McLaren', 'name': 'McLaren', 'nationality': 'British'}]}, {'position': '4', 'positionText': '4', 'points': '12', 'wins': '0', 'Driver': {'driverId': 'hamilton', 'permanentNumber': '44', 'code': 'HAM', 'url': 'http://en.wikipedia.org/wiki/Lewis_Hamilton', 'givenName': 'Lewis', 'familyName': 'Hamilton', 'dateOfBirth': '1985-01-07', 'nationality': 'British'}, 'Constructors': [{'constructorId': 'mercedes', 'url': 'http://en.wikipedia.org/wiki/Mercedes-Benz_in_Formula_One', 'name': 'Mercedes', 'nationality': 'German'}]}, {'position': '5', 'positionText': '5', 'points': '10', 'wins': '0', 'Driver': {'driverId': 'sainz', 'permanentNumber': '55', 'code': 'SAI', 'url': 'http://en.wikipedia.org/wiki/Carlos_Sainz_Jr.', 'givenName': 'Carlos', 'familyName': 'Sainz', 'dateOfBirth': '1994-09-01', 'nationality': 'Spanish'}, 'Constructors': [{'constructorId': 'mclaren', 'url': 'http://en.wikipedia.org/wiki/McLaren', 'name': 'McLaren', 'nationality': 'British'}]}, {'position': '6', 'positionText': '6', 'points': '8', 'wins': '0', 'Driver': {'driverId': 'perez', 'permanentNumber': '11', 'code': 'PER', 'url': 'http://en.wikipedia.org/wiki/Sergio_P%C3%A9rez', 'givenName': 'Sergio', 'familyName': 'Pérez', 'dateOfBirth': '1990-01-26', 'nationality': 'Mexican'}, 'Constructors': [{'constructorId': 'racing_point', 'url': 'http://en.wikipedia.org/wiki/Racing_Point_F1_Team', 'name': 'Racing Point', 'nationality': 'British'}]}, {'position': '7', 'positionText': '7', 'points': '6', 'wins': '0', 'Driver': {'driverId': 'gasly', 'permanentNumber': '10', 'code': 'GAS', 'url': 'http://en.wikipedia.org/wiki/Pierre_Gasly', 'givenName': 'Pierre', 'familyName': 'Gasly', 'dateOfBirth': '1996-02-07', 'nationality': 'French'}, 'Constructors': [{'constructorId': 'alphatauri', 'url': 'http://en.wikipedia.org/wiki/Scuderia_AlphaTauri', 'name': 'AlphaTauri', 'nationality': 'Italian'}]}, {'position': '8', 'positionText': '8', 'points': '4', 'wins': '0', 'Driver': {'driverId': 'ocon', 'permanentNumber': '31', 'code': 'OCO', 'url': 'http://en.wikipedia.org/wiki/Esteban_Ocon', 'givenName': 'Esteban', 'familyName': 'Ocon', 'dateOfBirth': '1996-09-17', 'nationality': 'French'}, 'Constructors': [{'constructorId': 'renault', 'url': 'http://en.wikipedia.org/wiki/Renault_in_Formula_One', 'name': 'Renault', 'nationality': 'French'}]}, {'position': '9', 'positionText': '9', 'points': '2', 'wins': '0', 'Driver': {'driverId': 'giovinazzi', 'permanentNumber': '99', 'code': 'GIO', 'url': 'http://en.wikipedia.org/wiki/Antonio_Giovinazzi', 'givenName': 'Antonio', 'familyName': 'Giovinazzi', 'dateOfBirth': '1993-12-14', 'nationality': 'Italian'}, 'Constructors': [{'constructorId': 'alfa', 'url': 'http://en.wikipedia.org/wiki/Alfa_Romeo_in_Formula_One', 'name': 'Alfa Romeo', 'nationality': 'Swiss'}]}, {'position': '10', 'positionText': '10', 'points': '1', 'wins': '0', 'Driver': {'driverId': 'vettel', 'permanentNumber': '5', 'code': 'VET', 'url': 'http://en.wikipedia.org/wiki/Sebastian_Vettel', 'givenName': 'Sebastian', 'familyName': 'Vettel', 'dateOfBirth': '1987-07-03', 'nationality': 'German'}, 'Constructors': [{'constructorId': 'ferrari', 'url': 'http://en.wikipedia.org/wiki/Scuderia_Ferrari', 'name': 'Ferrari', 'nationality': 'Italian'}]}, {'position': '11', 'positionText': '11', 'points': '0', 'wins': '0', 'Driver': {'driverId': 'latifi', 'permanentNumber': '6', 'code': 'LAT', 'url': 'http://en.wikipedia.org/wiki/Nicholas_Latifi', 'givenName': 'Nicholas', 'familyName': 'Latifi', 'dateOfBirth': '1995-06-29', 'nationality': 'Canadian'}, 'Constructors': [{'constructorId': 'williams', 'url': 'http://en.wikipedia.org/wiki/Williams_Grand_Prix_Engineering', 'name': 'Williams', 'nationality': 'British'}]}, {'position': '12', 'positionText': '12', 'points': '0', 'wins': '0', 'Driver': {'driverId': 'kvyat', 'permanentNumber': '26', 'code': 'KVY', 'url': 'http://en.wikipedia.org/wiki/Daniil_Kvyat', 'givenName': 'Daniil', 'familyName': 'Kvyat', 'dateOfBirth': '1994-04-26', 'nationality': 'Russian'}, 'Constructors': [{'constructorId': 'alphatauri', 'url': 'http://en.wikipedia.org/wiki/Scuderia_AlphaTauri', 'name': 'AlphaTauri', 'nationality': 'Italian'}]}, {'position': '13', 'positionText': '13', 'points': '0', 'wins': '0', 'Driver': {'driverId': 'albon', 'permanentNumber': '23', 'code': 'ALB', 'url': 'http://en.wikipedia.org/wiki/Alexander_Albon', 'givenName': 'Alexander', 'familyName': 'Albon', 'dateOfBirth': '1996-03-23', 'nationality': 'Thai'}, 'Constructors': [{'constructorId': 'red_bull', 'url': 'http://en.wikipedia.org/wiki/Red_Bull_Racing', 'name': 'Red Bull', 'nationality': 'Austrian'}]}, {'position': '14', 'positionText': '14', 'points': '0', 'wins': '0', 'Driver': {'driverId': 'raikkonen', 'permanentNumber': '7', 'code': 'RAI', 'url': 'http://en.wikipedia.org/wiki/Kimi_R%C3%A4ikk%C3%B6nen', 'givenName': 'Kimi', 'familyName': 'Räikkönen', 'dateOfBirth': '1979-10-17', 'nationality': 'Finnish'}, 'Constructors': [{'constructorId': 'alfa', 'url': 'http://en.wikipedia.org/wiki/Alfa_Romeo_in_Formula_One', 'name': 'Alfa Romeo', 'nationality': 'Swiss'}]}, {'position': '15', 'positionText': '15', 'points': '0', 'wins': '0', 'Driver': {'driverId': 'russell', 'permanentNumber': '63', 'code': 'RUS', 'url': 'http://en.wikipedia.org/wiki/George_Russell_%28racing_driver%29', 'givenName': 'George', 'familyName': 'Russell', 'dateOfBirth': '1998-02-15', 'nationality': 'British'}, 'Constructors': [{'constructorId': 'williams', 'url': 'http://en.wikipedia.org/wiki/Williams_Grand_Prix_Engineering', 'name': 'Williams', 'nationality': 'British'}]}, {'position': '16', 'positionText': '16', 'points': '0', 'wins': '0', 'Driver': {'driverId': 'grosjean', 'permanentNumber': '8', 'code': 'GRO', 'url': 'http://en.wikipedia.org/wiki/Romain_Grosjean', 'givenName': 'Romain', 'familyName': 'Grosjean', 'dateOfBirth': '1986-04-17', 'nationality': 'French'}, 'Constructors': [{'constructorId': 'haas', 'url': 'http://en.wikipedia.org/wiki/Haas_F1_Team', 'name': 'Haas F1 Team', 'nationality': 'American'}]}, {'position': '17', 'positionText': '17', 'points': '0', 'wins': '0', 'Driver': {'driverId': 'kevin_magnussen', 'permanentNumber': '20', 'code': 'MAG', 'url': 'http://en.wikipedia.org/wiki/Kevin_Magnussen', 'givenName': 'Kevin', 'familyName': 'Magnussen', 'dateOfBirth': '1992-10-05', 'nationality': 'Danish'}, 'Constructors': [{'constructorId': 'haas', 'url': 'http://en.wikipedia.org/wiki/Haas_F1_Team', 'name': 'Haas F1 Team', 'nationality': 'American'}]}, {'position': '18', 'positionText': '18', 'points': '0', 'wins': '0', 'Driver': {'driverId': 'stroll', 'permanentNumber': '18', 'code': 'STR', 'url': 'http://en.wikipedia.org/wiki/Lance_Stroll', 'givenName': 'Lance', 'familyName': 'Stroll', 'dateOfBirth': '1998-10-29', 'nationality': 'Canadian'}, 'Constructors': [{'constructorId': 'racing_point', 'url': 'http://en.wikipedia.org/wiki/Racing_Point_F1_Team', 'name': 'Racing Point', 'nationality': 'British'}]}, {'position': '19', 'positionText': '19', 'points': '0', 'wins': '0', 'Driver': {'driverId': 'ricciardo', 'permanentNumber': '3', 'code': 'RIC', 'url': 'http://en.wikipedia.org/wiki/Daniel_Ricciardo', 'givenName': 'Daniel', 'familyName': 'Ricciardo', 'dateOfBirth': '1989-07-01', 'nationality': 'Australian'}, 'Constructors': [{'constructorId': 'renault', 'url': 'http://en.wikipedia.org/wiki/Renault_in_Formula_One', 'name': 'Renault', 'nationality': 'French'}]}, {'position': '20', 'positionText': '20', 'points': '0', 'wins': '0', 'Driver': {'driverId': 'max_verstappen', 'permanentNumber': '33', 'code': 'VER', 'url': 'http://en.wikipedia.org/wiki/Max_Verstappen', 'givenName': 'Max', 'familyName': 'Verstappen', 'dateOfBirth': '1997-09-30', 'nationality': 'Dutch'}, 'Constructors': [{'constructorId': 'red_bull', 'url': 'http://en.wikipedia.org/wiki/Red_Bull_Racing', 'name': 'Red Bull', 'nationality': 'Austrian'}]}]\n"
     ]
    }
   ],
   "source": [
    "# We only want the Driver Standings\n",
    "data = response.json()['MRData']['StandingsTable']['StandingsLists'][0]['DriverStandings']\n",
    "print(data)\n"
   ]
  },
  {
   "cell_type": "code",
   "execution_count": 11,
   "id": "be46a950",
   "metadata": {},
   "outputs": [
    {
     "data": {
      "text/plain": [
       "list"
      ]
     },
     "execution_count": 11,
     "metadata": {},
     "output_type": "execute_result"
    }
   ],
   "source": [
    "type(data)"
   ]
  },
  {
   "cell_type": "code",
   "execution_count": 12,
   "id": "dc433145",
   "metadata": {},
   "outputs": [
    {
     "data": {
      "text/plain": [
       "{'position': '1',\n",
       " 'positionText': '1',\n",
       " 'points': '25',\n",
       " 'wins': '1',\n",
       " 'Driver': {'driverId': 'bottas',\n",
       "  'permanentNumber': '77',\n",
       "  'code': 'BOT',\n",
       "  'url': 'http://en.wikipedia.org/wiki/Valtteri_Bottas',\n",
       "  'givenName': 'Valtteri',\n",
       "  'familyName': 'Bottas',\n",
       "  'dateOfBirth': '1989-08-28',\n",
       "  'nationality': 'Finnish'},\n",
       " 'Constructors': [{'constructorId': 'mercedes',\n",
       "   'url': 'http://en.wikipedia.org/wiki/Mercedes-Benz_in_Formula_One',\n",
       "   'name': 'Mercedes',\n",
       "   'nationality': 'German'}]}"
      ]
     },
     "execution_count": 12,
     "metadata": {},
     "output_type": "execute_result"
    }
   ],
   "source": [
    "data[0]"
   ]
  },
  {
   "cell_type": "code",
   "execution_count": 75,
   "id": "3740c752",
   "metadata": {},
   "outputs": [
    {
     "ename": "SyntaxError",
     "evalue": "f-string: unmatched '[' (2674170087.py, line 5)",
     "output_type": "error",
     "traceback": [
      "\u001b[0;36m  File \u001b[0;32m\"/var/folders/3x/v1875rwn4qgc6kcntq6vxv1c0000gn/T/ipykernel_15811/2674170087.py\"\u001b[0;36m, line \u001b[0;32m5\u001b[0m\n\u001b[0;31m    racer_name = f\"{racer['Driver']['givenName']} {racer[\"Driver\"]['familyName']}\"\u001b[0m\n\u001b[0m                                                          ^\u001b[0m\n\u001b[0;31mSyntaxError\u001b[0m\u001b[0;31m:\u001b[0m f-string: unmatched '['\n"
     ]
    }
   ],
   "source": [
    "def get_racer_info(data):\n",
    "    new_data = []\n",
    "    for racer in data:\n",
    "        racer_dict = {}\n",
    "        racer_name = f\"{racer['Driver']['givenName']} {racer[\"Driver\"]['familyName']}\"\n",
    "        \n",
    "        racer_dict[racer_name] = {\n",
    "            'first_name': racer[\"Driver\"]['givenName'],\n",
    "            'last_name': racer[\"Driver\"]['familyName'],\n",
    "            'position': racer['position'],\n",
    "            'wins': racer['wins'],\n",
    "            'DOB': racer['Driver']['dateOfBirth'],\n",
    "            'nationality':racer[\"Driver\"]['nationality'],\n",
    "            'constructor':racer['Constructors'][0]['name'],\n",
    "        }\n",
    "        new_data.append(racer_dict)\n",
    "    return new_data\n",
    "\n",
    "print(get_racer_info(data))"
   ]
  },
  {
   "cell_type": "code",
   "execution_count": 31,
   "id": "790ad133",
   "metadata": {},
   "outputs": [
    {
     "ename": "KeyError",
     "evalue": "'Driver'",
     "output_type": "error",
     "traceback": [
      "\u001b[0;31m---------------------------------------------------------------------------\u001b[0m",
      "\u001b[0;31mKeyError\u001b[0m                                  Traceback (most recent call last)",
      "\u001b[0;32m/var/folders/3x/v1875rwn4qgc6kcntq6vxv1c0000gn/T/ipykernel_15811/1286453862.py\u001b[0m in \u001b[0;36m<module>\u001b[0;34m\u001b[0m\n\u001b[1;32m      7\u001b[0m     \u001b[0;32mreturn\u001b[0m \u001b[0mget_racer_info\u001b[0m\u001b[0;34m(\u001b[0m\u001b[0mdata\u001b[0m\u001b[0;34m)\u001b[0m\u001b[0;34m\u001b[0m\u001b[0;34m\u001b[0m\u001b[0m\n\u001b[1;32m      8\u001b[0m \u001b[0;34m\u001b[0m\u001b[0m\n\u001b[0;32m----> 9\u001b[0;31m \u001b[0mget_driver_info_by_year_and_round\u001b[0m\u001b[0;34m(\u001b[0m\u001b[0;36m2020\u001b[0m\u001b[0;34m,\u001b[0m\u001b[0;36m3\u001b[0m\u001b[0;34m)\u001b[0m\u001b[0;34m\u001b[0m\u001b[0;34m\u001b[0m\u001b[0m\n\u001b[0m",
      "\u001b[0;32m/var/folders/3x/v1875rwn4qgc6kcntq6vxv1c0000gn/T/ipykernel_15811/1286453862.py\u001b[0m in \u001b[0;36mget_driver_info_by_year_and_round\u001b[0;34m(year, r)\u001b[0m\n\u001b[1;32m      5\u001b[0m         \u001b[0;32mreturn\u001b[0m \u001b[0;34m'We had an error loading your data or your year/round is not in the database'\u001b[0m\u001b[0;34m\u001b[0m\u001b[0;34m\u001b[0m\u001b[0m\n\u001b[1;32m      6\u001b[0m     \u001b[0mdata\u001b[0m \u001b[0;34m=\u001b[0m \u001b[0mresponse\u001b[0m\u001b[0;34m.\u001b[0m\u001b[0mjson\u001b[0m\u001b[0;34m(\u001b[0m\u001b[0;34m)\u001b[0m\u001b[0;34m[\u001b[0m\u001b[0;34m'MRData'\u001b[0m\u001b[0;34m]\u001b[0m\u001b[0;34m[\u001b[0m\u001b[0;34m'StandingsTable'\u001b[0m\u001b[0;34m]\u001b[0m\u001b[0;34m[\u001b[0m\u001b[0;34m'StandingsLists'\u001b[0m\u001b[0;34m]\u001b[0m\u001b[0;34m\u001b[0m\u001b[0;34m\u001b[0m\u001b[0m\n\u001b[0;32m----> 7\u001b[0;31m     \u001b[0;32mreturn\u001b[0m \u001b[0mget_racer_info\u001b[0m\u001b[0;34m(\u001b[0m\u001b[0mdata\u001b[0m\u001b[0;34m)\u001b[0m\u001b[0;34m\u001b[0m\u001b[0;34m\u001b[0m\u001b[0m\n\u001b[0m\u001b[1;32m      8\u001b[0m \u001b[0;34m\u001b[0m\u001b[0m\n\u001b[1;32m      9\u001b[0m \u001b[0mget_driver_info_by_year_and_round\u001b[0m\u001b[0;34m(\u001b[0m\u001b[0;36m2020\u001b[0m\u001b[0;34m,\u001b[0m\u001b[0;36m3\u001b[0m\u001b[0;34m)\u001b[0m\u001b[0;34m\u001b[0m\u001b[0;34m\u001b[0m\u001b[0m\n",
      "\u001b[0;32m/var/folders/3x/v1875rwn4qgc6kcntq6vxv1c0000gn/T/ipykernel_15811/2467420222.py\u001b[0m in \u001b[0;36mget_racer_info\u001b[0;34m(data)\u001b[0m\n\u001b[1;32m      3\u001b[0m     \u001b[0;32mfor\u001b[0m \u001b[0mracer\u001b[0m \u001b[0;32min\u001b[0m \u001b[0mdata\u001b[0m\u001b[0;34m:\u001b[0m\u001b[0;34m\u001b[0m\u001b[0;34m\u001b[0m\u001b[0m\n\u001b[1;32m      4\u001b[0m         \u001b[0mracer_dict\u001b[0m \u001b[0;34m=\u001b[0m \u001b[0;34m{\u001b[0m\u001b[0;34m}\u001b[0m\u001b[0;34m\u001b[0m\u001b[0;34m\u001b[0m\u001b[0m\n\u001b[0;32m----> 5\u001b[0;31m         \u001b[0mracer_name\u001b[0m \u001b[0;34m=\u001b[0m \u001b[0;34mf\"({racer['Driver']['givenName']}) ({racer['Driver']['familyName']})\"\u001b[0m\u001b[0;34m\u001b[0m\u001b[0;34m\u001b[0m\u001b[0m\n\u001b[0m\u001b[1;32m      6\u001b[0m         racer_dict[racer_name] = {\n\u001b[1;32m      7\u001b[0m             \u001b[0;34m'first_name'\u001b[0m\u001b[0;34m:\u001b[0m \u001b[0mracer\u001b[0m\u001b[0;34m[\u001b[0m\u001b[0;34m'Driver'\u001b[0m\u001b[0;34m]\u001b[0m\u001b[0;34m[\u001b[0m\u001b[0;34m'givenName'\u001b[0m\u001b[0;34m]\u001b[0m\u001b[0;34m,\u001b[0m\u001b[0;34m\u001b[0m\u001b[0;34m\u001b[0m\u001b[0m\n",
      "\u001b[0;31mKeyError\u001b[0m: 'Driver'"
     ]
    }
   ],
   "source": [
    "def get_driver_info_by_year_and_round(year, r):\n",
    "    url = f\"https://ergast.com/api/f1/{year}/{r}/driverStandings.json\"\n",
    "    reponse = requests.get(url)\n",
    "    if not response.json()['MRData']['StandingsTable']['StandingsLists']:\n",
    "        return 'We had an error loading your data or your year/round is not in the database'\n",
    "    data = response.json()['MRData']['StandingsTable']['StandingsLists']\n",
    "    return get_racer_info(data)\n",
    "\n",
    "get_driver_info_by_year_and_round(2020,3)"
   ]
  },
  {
   "cell_type": "markdown",
   "id": "6d546014",
   "metadata": {},
   "source": [
    "# <strong>Homework</strong>\n",
    "check out this Pokemon API https://pokeapi.co/\n",
    "Use the requests package to connect to this API and get and store data for 5 different pokemon.\n",
    "Get the pokemons: name, atleast one ability's name, base_experience, and the URL for its sprite (an image that shows up on screen) for the 'front_shiny'"
   ]
  },
  {
   "cell_type": "code",
   "execution_count": 108,
   "id": "5a9081e3",
   "metadata": {},
   "outputs": [
    {
     "name": "stdout",
     "output_type": "stream",
     "text": [
      "<Response [200]>\n"
     ]
    },
    {
     "ename": "TypeError",
     "evalue": "slice indices must be integers or None or have an __index__ method",
     "output_type": "error",
     "traceback": [
      "\u001b[0;31m---------------------------------------------------------------------------\u001b[0m",
      "\u001b[0;31mTypeError\u001b[0m                                 Traceback (most recent call last)",
      "\u001b[0;32m/var/folders/3x/v1875rwn4qgc6kcntq6vxv1c0000gn/T/ipykernel_15811/537523779.py\u001b[0m in \u001b[0;36m<module>\u001b[0;34m\u001b[0m\n\u001b[1;32m     19\u001b[0m     \u001b[0;32mreturn\u001b[0m \u001b[0mnew_data\u001b[0m\u001b[0;34m\u001b[0m\u001b[0;34m\u001b[0m\u001b[0m\n\u001b[1;32m     20\u001b[0m \u001b[0;34m\u001b[0m\u001b[0m\n\u001b[0;32m---> 21\u001b[0;31m \u001b[0mprint\u001b[0m\u001b[0;34m(\u001b[0m\u001b[0mget_pokemon_info\u001b[0m\u001b[0;34m(\u001b[0m\u001b[0mdata\u001b[0m\u001b[0;34m)\u001b[0m\u001b[0;34m)\u001b[0m\u001b[0;34m\u001b[0m\u001b[0;34m\u001b[0m\u001b[0m\n\u001b[0m\u001b[1;32m     22\u001b[0m \u001b[0;34m\u001b[0m\u001b[0m\n",
      "\u001b[0;32m/var/folders/3x/v1875rwn4qgc6kcntq6vxv1c0000gn/T/ipykernel_15811/537523779.py\u001b[0m in \u001b[0;36mget_pokemon_info\u001b[0;34m(data)\u001b[0m\n\u001b[1;32m      8\u001b[0m     \u001b[0;32mfor\u001b[0m \u001b[0mpokemon\u001b[0m \u001b[0;32min\u001b[0m \u001b[0mdata\u001b[0m\u001b[0;34m:\u001b[0m\u001b[0;34m\u001b[0m\u001b[0;34m\u001b[0m\u001b[0m\n\u001b[1;32m      9\u001b[0m         \u001b[0mpokemon_dict\u001b[0m \u001b[0;34m=\u001b[0m \u001b[0;34m{\u001b[0m\u001b[0;34m}\u001b[0m\u001b[0;34m\u001b[0m\u001b[0;34m\u001b[0m\u001b[0m\n\u001b[0;32m---> 10\u001b[0;31m         \u001b[0mpokemon_name\u001b[0m \u001b[0;34m=\u001b[0m \u001b[0;34mf\"{pokemon['forms':'name']}\"\u001b[0m\u001b[0;34m\u001b[0m\u001b[0;34m\u001b[0m\u001b[0m\n\u001b[0m\u001b[1;32m     11\u001b[0m \u001b[0;34m\u001b[0m\u001b[0m\n\u001b[1;32m     12\u001b[0m         pokemon_dict[pokemon_name] = {\n",
      "\u001b[0;31mTypeError\u001b[0m: slice indices must be integers or None or have an __index__ method"
     ]
    }
   ],
   "source": [
    "import requests\n",
    "response = requests.get(\"https://pokeapi.co/api/v2/pokemon/squirtle\")\n",
    "print(response)\n",
    "data = response.json()\n",
    "\n",
    "def get_pokemon_info(data):\n",
    "    new_data = []\n",
    "    for pokemon in data:\n",
    "        pokemon_dict = {}\n",
    "        pokemon_name = f\"{pokemon['forms'][0]['name']}\"\n",
    "        \n",
    "        pokemon_dict[pokemon_name] = {\n",
    "            'name': pokemon['forms'][0]['name'], \n",
    "            'abilities': pokemon['abilities'][0]], \n",
    "            'base_experience': pokemon['base_experience'],\n",
    "            'url': pokemon['sprites']['front_shiny'],\n",
    "        }\n",
    "        new_data.append(pokemon_dict)\n",
    "    return new_data \n",
    "\n",
    "print(get_pokemon_info(data))\n",
    "\n"
   ]
  },
  {
   "cell_type": "code",
   "execution_count": null,
   "id": "175a8f63",
   "metadata": {},
   "outputs": [],
   "source": []
  }
 ],
 "metadata": {
  "kernelspec": {
   "display_name": "Python 3 (ipykernel)",
   "language": "python",
   "name": "python3"
  },
  "language_info": {
   "codemirror_mode": {
    "name": "ipython",
    "version": 3
   },
   "file_extension": ".py",
   "mimetype": "text/x-python",
   "name": "python",
   "nbconvert_exporter": "python",
   "pygments_lexer": "ipython3",
   "version": "3.9.7"
  }
 },
 "nbformat": 4,
 "nbformat_minor": 5
}
